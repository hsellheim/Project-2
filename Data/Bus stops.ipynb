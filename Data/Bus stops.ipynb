{
 "cells": [
  {
   "cell_type": "markdown",
   "id": "6d2d13cf-3fd6-425b-9aae-89dbff391487",
   "metadata": {},
   "source": [
    "Data source: https://opendata.schleswig-holstein.de/dataset/haltestellenverzeichnis"
   ]
  },
  {
   "cell_type": "markdown",
   "id": "ab86d1aa-02c2-48b0-90bd-26eb9ede39cd",
   "metadata": {},
   "source": [
    "I have a dataset of all the bus stops in the state which I want to map in QGIS, but I have to clean it first."
   ]
  },
  {
   "cell_type": "code",
   "execution_count": 9,
   "id": "d79c284e-cb7c-4ad8-a0b3-87e8d8e25d9a",
   "metadata": {},
   "outputs": [],
   "source": [
    "import pandas as pd\n",
    "df = pd.read_csv('zHV_SH.2020-04-22.csv', sep=';')"
   ]
  },
  {
   "cell_type": "code",
   "execution_count": 7,
   "id": "88a9480a-4f09-437e-81f3-9bc829edb3f9",
   "metadata": {},
   "outputs": [
    {
     "data": {
      "text/html": [
       "<div>\n",
       "<style scoped>\n",
       "    .dataframe tbody tr th:only-of-type {\n",
       "        vertical-align: middle;\n",
       "    }\n",
       "\n",
       "    .dataframe tbody tr th {\n",
       "        vertical-align: top;\n",
       "    }\n",
       "\n",
       "    .dataframe thead th {\n",
       "        text-align: right;\n",
       "    }\n",
       "</style>\n",
       "<table border=\"1\" class=\"dataframe\">\n",
       "  <thead>\n",
       "    <tr style=\"text-align: right;\">\n",
       "      <th></th>\n",
       "      <th>SeqNo</th>\n",
       "      <th>Type</th>\n",
       "      <th>DHID</th>\n",
       "      <th>Parent</th>\n",
       "      <th>Name</th>\n",
       "      <th>Latitude</th>\n",
       "      <th>Longitude</th>\n",
       "      <th>MunicipalityCode</th>\n",
       "      <th>Municipality</th>\n",
       "      <th>DistrictCode</th>\n",
       "      <th>District</th>\n",
       "      <th>Condition</th>\n",
       "      <th>State</th>\n",
       "      <th>Description</th>\n",
       "      <th>Authority</th>\n",
       "    </tr>\n",
       "  </thead>\n",
       "  <tbody>\n",
       "    <tr>\n",
       "      <th>0</th>\n",
       "      <td>253561</td>\n",
       "      <td>S</td>\n",
       "      <td>de:01001:104053</td>\n",
       "      <td>de:01001:104053</td>\n",
       "      <td>Flensburg Amrumer Straße</td>\n",
       "      <td>54,760085</td>\n",
       "      <td>9,39771</td>\n",
       "      <td>1001000</td>\n",
       "      <td>Flensburg</td>\n",
       "      <td>NaN</td>\n",
       "      <td>NaN</td>\n",
       "      <td>Served</td>\n",
       "      <td>Unknown</td>\n",
       "      <td>NaN</td>\n",
       "      <td>VBN</td>\n",
       "    </tr>\n",
       "    <tr>\n",
       "      <th>1</th>\n",
       "      <td>253562</td>\n",
       "      <td>Q</td>\n",
       "      <td>de:01001:104053::1</td>\n",
       "      <td>de:01001:104053</td>\n",
       "      <td>Flensburg Amrumer Straße</td>\n",
       "      <td>54,760085</td>\n",
       "      <td>9,39771</td>\n",
       "      <td>0</td>\n",
       "      <td>-</td>\n",
       "      <td>-</td>\n",
       "      <td>-</td>\n",
       "      <td>Served</td>\n",
       "      <td>Unknown</td>\n",
       "      <td>NaN</td>\n",
       "      <td>VBN</td>\n",
       "    </tr>\n",
       "    <tr>\n",
       "      <th>2</th>\n",
       "      <td>253563</td>\n",
       "      <td>S</td>\n",
       "      <td>de:01001:104054</td>\n",
       "      <td>de:01001:104054</td>\n",
       "      <td>Flensburg Kauslund Osterallee</td>\n",
       "      <td>54,803154</td>\n",
       "      <td>9,487795</td>\n",
       "      <td>1001000</td>\n",
       "      <td>Flensburg</td>\n",
       "      <td>NaN</td>\n",
       "      <td>NaN</td>\n",
       "      <td>Served</td>\n",
       "      <td>Unknown</td>\n",
       "      <td>NaN</td>\n",
       "      <td>VBN</td>\n",
       "    </tr>\n",
       "    <tr>\n",
       "      <th>3</th>\n",
       "      <td>253564</td>\n",
       "      <td>Q</td>\n",
       "      <td>de:01001:104054::1</td>\n",
       "      <td>de:01001:104054</td>\n",
       "      <td>Flensburg Kauslund Osterallee</td>\n",
       "      <td>54,803154</td>\n",
       "      <td>9,487795</td>\n",
       "      <td>0</td>\n",
       "      <td>-</td>\n",
       "      <td>-</td>\n",
       "      <td>-</td>\n",
       "      <td>Served</td>\n",
       "      <td>Unknown</td>\n",
       "      <td>NaN</td>\n",
       "      <td>VBN</td>\n",
       "    </tr>\n",
       "    <tr>\n",
       "      <th>4</th>\n",
       "      <td>253565</td>\n",
       "      <td>S</td>\n",
       "      <td>de:01001:104055</td>\n",
       "      <td>de:01001:104055</td>\n",
       "      <td>Flensburg Lise-Meitner-Straße</td>\n",
       "      <td>54,760474</td>\n",
       "      <td>9,44108</td>\n",
       "      <td>1001000</td>\n",
       "      <td>Flensburg</td>\n",
       "      <td>NaN</td>\n",
       "      <td>NaN</td>\n",
       "      <td>Served</td>\n",
       "      <td>Unknown</td>\n",
       "      <td>NaN</td>\n",
       "      <td>VBN</td>\n",
       "    </tr>\n",
       "  </tbody>\n",
       "</table>\n",
       "</div>"
      ],
      "text/plain": [
       "    SeqNo Type                DHID           Parent  \\\n",
       "0  253561    S     de:01001:104053  de:01001:104053   \n",
       "1  253562    Q  de:01001:104053::1  de:01001:104053   \n",
       "2  253563    S     de:01001:104054  de:01001:104054   \n",
       "3  253564    Q  de:01001:104054::1  de:01001:104054   \n",
       "4  253565    S     de:01001:104055  de:01001:104055   \n",
       "\n",
       "                            Name   Latitude Longitude  MunicipalityCode  \\\n",
       "0       Flensburg Amrumer Straße  54,760085   9,39771           1001000   \n",
       "1       Flensburg Amrumer Straße  54,760085   9,39771                 0   \n",
       "2  Flensburg Kauslund Osterallee  54,803154  9,487795           1001000   \n",
       "3  Flensburg Kauslund Osterallee  54,803154  9,487795                 0   \n",
       "4  Flensburg Lise-Meitner-Straße  54,760474   9,44108           1001000   \n",
       "\n",
       "  Municipality DistrictCode District Condition    State  Description Authority  \n",
       "0    Flensburg          NaN      NaN    Served  Unknown          NaN       VBN  \n",
       "1            -            -        -    Served  Unknown          NaN       VBN  \n",
       "2    Flensburg          NaN      NaN    Served  Unknown          NaN       VBN  \n",
       "3            -            -        -    Served  Unknown          NaN       VBN  \n",
       "4    Flensburg          NaN      NaN    Served  Unknown          NaN       VBN  "
      ]
     },
     "execution_count": 7,
     "metadata": {},
     "output_type": "execute_result"
    }
   ],
   "source": [
    "df.head()"
   ]
  },
  {
   "cell_type": "code",
   "execution_count": 10,
   "id": "ee31370d-bc09-4448-a980-e738f28e2758",
   "metadata": {},
   "outputs": [],
   "source": [
    "df = df.drop(columns=[\"SeqNo\", \"Type\", \"DHID\", \"Parent\", \"MunicipalityCode\", \"Municipality\", \"DistrictCode\", \"District\", \"State\", \"Description\", \"Authority\"])"
   ]
  },
  {
   "cell_type": "code",
   "execution_count": 15,
   "id": "c2b8d508-72c0-42ba-b8c4-53e2520ac180",
   "metadata": {},
   "outputs": [
    {
     "data": {
      "text/html": [
       "<div>\n",
       "<style scoped>\n",
       "    .dataframe tbody tr th:only-of-type {\n",
       "        vertical-align: middle;\n",
       "    }\n",
       "\n",
       "    .dataframe tbody tr th {\n",
       "        vertical-align: top;\n",
       "    }\n",
       "\n",
       "    .dataframe thead th {\n",
       "        text-align: right;\n",
       "    }\n",
       "</style>\n",
       "<table border=\"1\" class=\"dataframe\">\n",
       "  <thead>\n",
       "    <tr style=\"text-align: right;\">\n",
       "      <th></th>\n",
       "      <th>Name</th>\n",
       "      <th>Latitude</th>\n",
       "      <th>Longitude</th>\n",
       "    </tr>\n",
       "  </thead>\n",
       "  <tbody>\n",
       "    <tr>\n",
       "      <th>0</th>\n",
       "      <td>Flensburg Amrumer Straße</td>\n",
       "      <td>54,760085</td>\n",
       "      <td>9,39771</td>\n",
       "    </tr>\n",
       "    <tr>\n",
       "      <th>1</th>\n",
       "      <td>Flensburg Amrumer Straße</td>\n",
       "      <td>54,760085</td>\n",
       "      <td>9,39771</td>\n",
       "    </tr>\n",
       "    <tr>\n",
       "      <th>2</th>\n",
       "      <td>Flensburg Kauslund Osterallee</td>\n",
       "      <td>54,803154</td>\n",
       "      <td>9,487795</td>\n",
       "    </tr>\n",
       "    <tr>\n",
       "      <th>3</th>\n",
       "      <td>Flensburg Kauslund Osterallee</td>\n",
       "      <td>54,803154</td>\n",
       "      <td>9,487795</td>\n",
       "    </tr>\n",
       "    <tr>\n",
       "      <th>4</th>\n",
       "      <td>Flensburg Lise-Meitner-Straße</td>\n",
       "      <td>54,760474</td>\n",
       "      <td>9,44108</td>\n",
       "    </tr>\n",
       "  </tbody>\n",
       "</table>\n",
       "</div>"
      ],
      "text/plain": [
       "                            Name   Latitude Longitude\n",
       "0       Flensburg Amrumer Straße  54,760085   9,39771\n",
       "1       Flensburg Amrumer Straße  54,760085   9,39771\n",
       "2  Flensburg Kauslund Osterallee  54,803154  9,487795\n",
       "3  Flensburg Kauslund Osterallee  54,803154  9,487795\n",
       "4  Flensburg Lise-Meitner-Straße  54,760474   9,44108"
      ]
     },
     "execution_count": 15,
     "metadata": {},
     "output_type": "execute_result"
    }
   ],
   "source": [
    "df.head()"
   ]
  },
  {
   "cell_type": "markdown",
   "id": "7d62a5c4-0d47-42d7-9a41-8bf609d105ef",
   "metadata": {},
   "source": [
    "Checking whether the set contains bus stops that are not being served so I can get rid of those."
   ]
  },
  {
   "cell_type": "code",
   "execution_count": 12,
   "id": "2ca75075-4883-497a-9642-b38c8af517b2",
   "metadata": {},
   "outputs": [
    {
     "data": {
      "text/plain": [
       "array(['Served'], dtype=object)"
      ]
     },
     "execution_count": 12,
     "metadata": {},
     "output_type": "execute_result"
    }
   ],
   "source": [
    "df[\"Condition\"][df[\"Condition\"].duplicated()].unique()"
   ]
  },
  {
   "cell_type": "code",
   "execution_count": null,
   "id": "a4704e4c-2445-40ae-9093-2f73beaec554",
   "metadata": {},
   "outputs": [],
   "source": [
    "Great, so we can drop this column too."
   ]
  },
  {
   "cell_type": "code",
   "execution_count": 13,
   "id": "23a99f22-dd6f-4e63-87b2-8c30d55f395a",
   "metadata": {},
   "outputs": [],
   "source": [
    "df = df.drop(columns=[\"Condition\"])"
   ]
  },
  {
   "cell_type": "code",
   "execution_count": 14,
   "id": "b1ed65ec-1f48-4777-bef3-4f2f20ed5298",
   "metadata": {},
   "outputs": [
    {
     "data": {
      "text/html": [
       "<div>\n",
       "<style scoped>\n",
       "    .dataframe tbody tr th:only-of-type {\n",
       "        vertical-align: middle;\n",
       "    }\n",
       "\n",
       "    .dataframe tbody tr th {\n",
       "        vertical-align: top;\n",
       "    }\n",
       "\n",
       "    .dataframe thead th {\n",
       "        text-align: right;\n",
       "    }\n",
       "</style>\n",
       "<table border=\"1\" class=\"dataframe\">\n",
       "  <thead>\n",
       "    <tr style=\"text-align: right;\">\n",
       "      <th></th>\n",
       "      <th>Name</th>\n",
       "      <th>Latitude</th>\n",
       "      <th>Longitude</th>\n",
       "    </tr>\n",
       "  </thead>\n",
       "  <tbody>\n",
       "    <tr>\n",
       "      <th>0</th>\n",
       "      <td>Flensburg Amrumer Straße</td>\n",
       "      <td>54,760085</td>\n",
       "      <td>9,39771</td>\n",
       "    </tr>\n",
       "    <tr>\n",
       "      <th>1</th>\n",
       "      <td>Flensburg Amrumer Straße</td>\n",
       "      <td>54,760085</td>\n",
       "      <td>9,39771</td>\n",
       "    </tr>\n",
       "    <tr>\n",
       "      <th>2</th>\n",
       "      <td>Flensburg Kauslund Osterallee</td>\n",
       "      <td>54,803154</td>\n",
       "      <td>9,487795</td>\n",
       "    </tr>\n",
       "    <tr>\n",
       "      <th>3</th>\n",
       "      <td>Flensburg Kauslund Osterallee</td>\n",
       "      <td>54,803154</td>\n",
       "      <td>9,487795</td>\n",
       "    </tr>\n",
       "    <tr>\n",
       "      <th>4</th>\n",
       "      <td>Flensburg Lise-Meitner-Straße</td>\n",
       "      <td>54,760474</td>\n",
       "      <td>9,44108</td>\n",
       "    </tr>\n",
       "  </tbody>\n",
       "</table>\n",
       "</div>"
      ],
      "text/plain": [
       "                            Name   Latitude Longitude\n",
       "0       Flensburg Amrumer Straße  54,760085   9,39771\n",
       "1       Flensburg Amrumer Straße  54,760085   9,39771\n",
       "2  Flensburg Kauslund Osterallee  54,803154  9,487795\n",
       "3  Flensburg Kauslund Osterallee  54,803154  9,487795\n",
       "4  Flensburg Lise-Meitner-Straße  54,760474   9,44108"
      ]
     },
     "execution_count": 14,
     "metadata": {},
     "output_type": "execute_result"
    }
   ],
   "source": [
    "df.head()"
   ]
  },
  {
   "cell_type": "markdown",
   "id": "b3eacdb1-86ff-43f9-9357-bdb0288abb25",
   "metadata": {},
   "source": [
    "I have to replace the commas with dots so QGIS can read the lat and long. "
   ]
  },
  {
   "cell_type": "code",
   "execution_count": 16,
   "id": "3f49bd69-13f7-41c1-9276-8574ff1ab45d",
   "metadata": {},
   "outputs": [],
   "source": [
    "df[\"Latitude\"] = df[\"Latitude\"].str.replace(\",\", \".\", regex=False)\n",
    "df[\"Longitude\"] = df[\"Longitude\"].str.replace(\",\", \".\", regex=False)"
   ]
  },
  {
   "cell_type": "code",
   "execution_count": 17,
   "id": "fb2d6616-cf4f-4ffa-9aca-4835365a3209",
   "metadata": {},
   "outputs": [
    {
     "data": {
      "text/html": [
       "<div>\n",
       "<style scoped>\n",
       "    .dataframe tbody tr th:only-of-type {\n",
       "        vertical-align: middle;\n",
       "    }\n",
       "\n",
       "    .dataframe tbody tr th {\n",
       "        vertical-align: top;\n",
       "    }\n",
       "\n",
       "    .dataframe thead th {\n",
       "        text-align: right;\n",
       "    }\n",
       "</style>\n",
       "<table border=\"1\" class=\"dataframe\">\n",
       "  <thead>\n",
       "    <tr style=\"text-align: right;\">\n",
       "      <th></th>\n",
       "      <th>Name</th>\n",
       "      <th>Latitude</th>\n",
       "      <th>Longitude</th>\n",
       "    </tr>\n",
       "  </thead>\n",
       "  <tbody>\n",
       "    <tr>\n",
       "      <th>0</th>\n",
       "      <td>Flensburg Amrumer Straße</td>\n",
       "      <td>54.760085</td>\n",
       "      <td>9.39771</td>\n",
       "    </tr>\n",
       "    <tr>\n",
       "      <th>1</th>\n",
       "      <td>Flensburg Amrumer Straße</td>\n",
       "      <td>54.760085</td>\n",
       "      <td>9.39771</td>\n",
       "    </tr>\n",
       "    <tr>\n",
       "      <th>2</th>\n",
       "      <td>Flensburg Kauslund Osterallee</td>\n",
       "      <td>54.803154</td>\n",
       "      <td>9.487795</td>\n",
       "    </tr>\n",
       "    <tr>\n",
       "      <th>3</th>\n",
       "      <td>Flensburg Kauslund Osterallee</td>\n",
       "      <td>54.803154</td>\n",
       "      <td>9.487795</td>\n",
       "    </tr>\n",
       "    <tr>\n",
       "      <th>4</th>\n",
       "      <td>Flensburg Lise-Meitner-Straße</td>\n",
       "      <td>54.760474</td>\n",
       "      <td>9.44108</td>\n",
       "    </tr>\n",
       "  </tbody>\n",
       "</table>\n",
       "</div>"
      ],
      "text/plain": [
       "                            Name   Latitude Longitude\n",
       "0       Flensburg Amrumer Straße  54.760085   9.39771\n",
       "1       Flensburg Amrumer Straße  54.760085   9.39771\n",
       "2  Flensburg Kauslund Osterallee  54.803154  9.487795\n",
       "3  Flensburg Kauslund Osterallee  54.803154  9.487795\n",
       "4  Flensburg Lise-Meitner-Straße  54.760474   9.44108"
      ]
     },
     "execution_count": 17,
     "metadata": {},
     "output_type": "execute_result"
    }
   ],
   "source": [
    "df.head()"
   ]
  },
  {
   "cell_type": "markdown",
   "id": "3fc17648-a6f6-4d47-b289-9ffa4f50fc3c",
   "metadata": {},
   "source": [
    "Looks good, saving it!"
   ]
  },
  {
   "cell_type": "code",
   "execution_count": 18,
   "id": "d6e72105-25c6-40ee-9a82-c529c36f7f5f",
   "metadata": {},
   "outputs": [],
   "source": [
    "df.to_csv(\"busstops_clean.csv\", index=False)"
   ]
  },
  {
   "cell_type": "code",
   "execution_count": null,
   "id": "4fb34378-114e-4233-9977-50efae100574",
   "metadata": {},
   "outputs": [],
   "source": []
  }
 ],
 "metadata": {
  "kernelspec": {
   "display_name": "Python 3 (ipykernel)",
   "language": "python",
   "name": "python3"
  },
  "language_info": {
   "codemirror_mode": {
    "name": "ipython",
    "version": 3
   },
   "file_extension": ".py",
   "mimetype": "text/x-python",
   "name": "python",
   "nbconvert_exporter": "python",
   "pygments_lexer": "ipython3",
   "version": "3.12.10"
  }
 },
 "nbformat": 4,
 "nbformat_minor": 5
}
